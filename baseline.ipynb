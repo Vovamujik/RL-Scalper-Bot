{
 "cells": [
  {
   "cell_type": "code",
   "id": "initial_id",
   "metadata": {
    "collapsed": true,
    "ExecuteTime": {
     "end_time": "2025-06-10T07:34:37.136491Z",
     "start_time": "2025-06-10T07:34:26.342981Z"
    }
   },
   "source": "",
   "outputs": [],
   "execution_count": 1
  },
  {
   "metadata": {
    "ExecuteTime": {
     "end_time": "2025-06-10T07:35:03.049650Z",
     "start_time": "2025-06-10T07:35:03.008790Z"
    }
   },
   "cell_type": "code",
   "source": "",
   "id": "ca91c567f61df026",
   "outputs": [],
   "execution_count": 2
  },
  {
   "metadata": {
    "ExecuteTime": {
     "end_time": "2025-06-10T07:35:38.660590Z",
     "start_time": "2025-06-10T07:35:38.653738Z"
    }
   },
   "cell_type": "code",
   "source": "",
   "id": "6089dbcd9928dec6",
   "outputs": [],
   "execution_count": 4
  },
  {
   "metadata": {
    "ExecuteTime": {
     "end_time": "2025-06-10T07:44:39.335585Z",
     "start_time": "2025-06-10T07:44:39.333689Z"
    }
   },
   "cell_type": "code",
   "source": "",
   "id": "8ffc0cb85d3d36d2",
   "outputs": [],
   "execution_count": null
  },
  {
   "metadata": {
    "ExecuteTime": {
     "end_time": "2025-06-10T07:44:37.994444Z",
     "start_time": "2025-06-10T07:44:37.989241Z"
    }
   },
   "cell_type": "code",
   "source": "",
   "id": "20c4ee2c64d66a58",
   "outputs": [],
   "execution_count": null
  },
  {
   "metadata": {},
   "cell_type": "code",
   "outputs": [],
   "execution_count": null,
   "source": "",
   "id": "a4e75f45db80cf03"
  }
 ],
 "metadata": {
  "kernelspec": {
   "display_name": "Python 3",
   "language": "python",
   "name": "python3"
  },
  "language_info": {
   "codemirror_mode": {
    "name": "ipython",
    "version": 2
   },
   "file_extension": ".py",
   "mimetype": "text/x-python",
   "name": "python",
   "nbconvert_exporter": "python",
   "pygments_lexer": "ipython2",
   "version": "2.7.6"
  }
 },
 "nbformat": 4,
 "nbformat_minor": 5
}
